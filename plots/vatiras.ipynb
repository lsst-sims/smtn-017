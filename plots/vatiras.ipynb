{
 "cells": [
  {
   "cell_type": "code",
   "execution_count": 1,
   "id": "db306e3c",
   "metadata": {},
   "outputs": [],
   "source": [
    "import numpy as np\n",
    "import matplotlib.pylab as plt\n",
    "%matplotlib inline\n",
    "import pandas as pd\n"
   ]
  },
  {
   "cell_type": "code",
   "execution_count": 5,
   "id": "2ae247a7",
   "metadata": {},
   "outputs": [],
   "source": [
    "df = pd.read_pickle('vatiras_20/twilight_neo_stats.pkl')\n",
    "new_index = [name.replace('_10yrs', '') for name in df.index]\n",
    "df.index=new_index\n",
    "df.sort_index(inplace=True)"
   ]
  },
  {
   "cell_type": "code",
   "execution_count": 6,
   "id": "f95e5cc5",
   "metadata": {},
   "outputs": [
    {
     "data": {
      "text/plain": [
       "baseline_v2.0                     0.000052\n",
       "twilight_neo_nightpattern1v2.0    0.018749\n",
       "twilight_neo_nightpattern2v2.0    0.007166\n",
       "twilight_neo_nightpattern3v2.0    0.004021\n",
       "twilight_neo_nightpattern4v2.0    0.002047\n",
       "twilight_neo_nightpattern5v2.0    0.008646\n",
       "twilight_neo_nightpattern6v2.0    0.006181\n",
       "twilight_neo_nightpattern7v2.0    0.005646\n",
       "Name: CumulativeCompleteness H <= 20.000000 Discovery_N_Chances Vatira 3 pairs in 15 nights detection loss MoObjSlicer, dtype: float64"
      ]
     },
     "execution_count": 6,
     "metadata": {},
     "output_type": "execute_result"
    }
   ],
   "source": [
    "df['CumulativeCompleteness H <= 20.000000 Discovery_N_Chances Vatira 3 pairs in 15 nights detection loss MoObjSlicer']"
   ]
  },
  {
   "cell_type": "code",
   "execution_count": null,
   "id": "66478aca",
   "metadata": {},
   "outputs": [],
   "source": []
  }
 ],
 "metadata": {
  "kernelspec": {
   "display_name": "Python 3 (ipykernel)",
   "language": "python",
   "name": "python3"
  },
  "language_info": {
   "codemirror_mode": {
    "name": "ipython",
    "version": 3
   },
   "file_extension": ".py",
   "mimetype": "text/x-python",
   "name": "python",
   "nbconvert_exporter": "python",
   "pygments_lexer": "ipython3",
   "version": "3.8.13"
  }
 },
 "nbformat": 4,
 "nbformat_minor": 5
}
